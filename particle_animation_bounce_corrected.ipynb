{
 "cells": [
  {
   "cell_type": "markdown",
   "id": "2ecb66b3",
   "metadata": {},
   "source": [
    "# 🌀 Animation avec rebond corrigé contre les murs"
   ]
  },
  {
   "cell_type": "code",
   "execution_count": null,
   "id": "c0899720",
   "metadata": {},
   "outputs": [],
   "source": [
    "import pandas as pd\n",
    "import plotly.graph_objects as go\n",
    "\n",
    "df = pd.read_csv(\"trajectories.csv\")\n",
    "\n",
    "# Vérifie la colonne radius\n",
    "if 'radius' in df.columns:\n",
    "    df[\"size\"] = df[\"radius\"] * 100\n",
    "else:\n",
    "    df[\"size\"] = df[\"id\"].astype(int) % 5 * 4 + 10\n",
    "\n",
    "df[\"id\"] = df[\"id\"].astype(str)\n",
    "\n",
    "# Légère marge pour les rebonds sur les bords\n",
    "xmin, xmax = -0.05, 1.05\n",
    "ymin, ymax = -0.05, 1.05\n"
   ]
  },
  {
   "cell_type": "code",
   "execution_count": null,
   "id": "65b01b25",
   "metadata": {},
   "outputs": [],
   "source": [
    "frames = []\n",
    "for t in sorted(df[\"time\"].unique()):\n",
    "    step = df[df[\"time\"] == t]\n",
    "    shapes = []\n",
    "    for _, row in step.iterrows():\n",
    "        r = row[\"radius\"] if \"radius\" in row else 0.02\n",
    "        circle = dict(\n",
    "            type=\"circle\",\n",
    "            xref=\"x\", yref=\"y\",\n",
    "            x0=row[\"x\"] - r,\n",
    "            y0=row[\"y\"] - r,\n",
    "            x1=row[\"x\"] + r,\n",
    "            y1=row[\"y\"] + r,\n",
    "            line_color=\"rgba(0,0,150,0.3)\",\n",
    "            fillcolor=\"rgba(100,180,255,0.4)\"\n",
    "        )\n",
    "        shapes.append(circle)\n",
    "\n",
    "    trace = go.Scatter(\n",
    "        x=step[\"x\"], y=step[\"y\"],\n",
    "        mode=\"markers+text\",\n",
    "        marker=dict(size=step[\"size\"], sizemode=\"diameter\", sizeref=1,\n",
    "                    color=step[\"id\"].astype(int), colorscale=\"Viridis\"),\n",
    "        text=step[\"id\"],\n",
    "        hoverinfo=\"text\"\n",
    "    )\n",
    "    frames.append(go.Frame(data=[trace], layout=go.Layout(shapes=shapes), name=str(t)))\n"
   ]
  },
  {
   "cell_type": "code",
   "execution_count": null,
   "id": "a769443b",
   "metadata": {},
   "outputs": [],
   "source": [
    "layout = go.Layout(\n",
    "    title=\"Animation des particules avec rebond corrigé (mur)\",\n",
    "    xaxis=dict(range=[xmin, xmax], title=\"X\"),\n",
    "    yaxis=dict(range=[ymin, ymax], title=\"Y\", scaleanchor=\"x\", scaleratio=1),\n",
    "    width=750, height=750,\n",
    "    updatemenus=[dict(type=\"buttons\", showactive=True,\n",
    "                      buttons=[dict(label=\"Play\", method=\"animate\",\n",
    "                                    args=[None, {\"frame\": {\"duration\": 1, \"redraw\": True},\n",
    "                                                 \"fromcurrent\": True, \"mode\": \"immediate\"}]),\n",
    "                               dict(label=\"Pause\", method=\"animate\",\n",
    "                                    args=[[None], {\"frame\": {\"duration\": 0}, \"mode\": \"immediate\"}])\n",
    "                              ])]\n",
    ")\n",
    "\n",
    "fig = go.Figure(data=frames[0].data, frames=frames, layout=layout)\n",
    "fig.show()\n"
   ]
  }
 ],
 "metadata": {
  "kernelspec": {
   "display_name": ".venv",
   "language": "python",
   "name": "python3"
  },
  "language_info": {
   "codemirror_mode": {
    "name": "ipython",
    "version": 3
   },
   "file_extension": ".py",
   "mimetype": "text/x-python",
   "name": "python",
   "nbconvert_exporter": "python",
   "pygments_lexer": "ipython3",
   "version": "3.10.12"
  }
 },
 "nbformat": 4,
 "nbformat_minor": 5
}
